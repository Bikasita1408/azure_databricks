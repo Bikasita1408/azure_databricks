{
 "cells": [
  {
   "cell_type": "markdown",
   "metadata": {
    "application/vnd.databricks.v1+cell": {
     "cellMetadata": {},
     "inputWidgets": {},
     "nuid": "c1c3bf1d-d080-4b7d-b574-0e6ac4291365",
     "showTitle": false,
     "tableResultSettingsMap": {},
     "title": ""
    },
    "id": "97599e6d"
   },
   "source": [
    "# 🧠 Business Context for PySpark Transformations in Retail"
   ]
  },
  {
   "cell_type": "markdown",
   "metadata": {
    "application/vnd.databricks.v1+cell": {
     "cellMetadata": {},
     "inputWidgets": {},
     "nuid": "9fc68fe7-cd26-4553-9bd4-ed7b3b387412",
     "showTitle": false,
     "tableResultSettingsMap": {},
     "title": ""
    },
    "id": "zrj1JswynWiO"
   },
   "source": [
    "# Generate Inventory Dataset"
   ]
  },
  {
   "cell_type": "code",
   "execution_count": 0,
   "metadata": {
    "application/vnd.databricks.v1+cell": {
     "cellMetadata": {
      "byteLimit": 2048000,
      "rowLimit": 10000
     },
     "inputWidgets": {},
     "nuid": "4f27e061-0113-44a4-a329-db04de85fa89",
     "showTitle": false,
     "tableResultSettingsMap": {},
     "title": ""
    }
   },
   "outputs": [],
   "source": [
    "!pip install faker"
   ]
  },
  {
   "cell_type": "code",
   "execution_count": 0,
   "metadata": {
    "application/vnd.databricks.v1+cell": {
     "cellMetadata": {
      "byteLimit": 2048000,
      "rowLimit": 10000
     },
     "inputWidgets": {},
     "nuid": "e7dc8ca5-1b0f-4d91-b70e-e9944c95d37b",
     "showTitle": false,
     "tableResultSettingsMap": {},
     "title": ""
    },
    "id": "rw3igu8ynYP5"
   },
   "outputs": [],
   "source": [
    "import pandas as pd\n",
    "import numpy as np\n",
    "import uuid\n",
    "from faker import Faker\n",
    "from datetime import datetime, timedelta\n",
    "\n",
    "fake = Faker()\n",
    "NUM_RECORDS = 50000\n",
    "CATEGORIES = [\"Electronics\", \"Apparel\", \"Groceries\", \"Toys\", \"Home\", \"Books\", \"Fitness\"]\n",
    "\n",
    "data = {\n",
    "    \"product_id\": [str(uuid.uuid4()) for _ in range(NUM_RECORDS)],\n",
    "    \"product_name\": [fake.word().capitalize() + \" \" + fake.word().capitalize() for _ in range(NUM_RECORDS)],\n",
    "    \"category\": np.random.choice(CATEGORIES, NUM_RECORDS),\n",
    "    \"quantity\": np.random.randint(0, 1000, NUM_RECORDS),\n",
    "    \"reorder_level\": np.random.randint(50, 300, NUM_RECORDS),\n",
    "    \"unit_price\": np.round(np.random.uniform(10.0, 10000.0, NUM_RECORDS), 2),\n",
    "    \"tags\": [np.random.choice([\"popular\", \"eco\", \"sale\", \"imported\"], size=np.random.randint(1, 4), replace=False).tolist() for _ in range(NUM_RECORDS)],\n",
    "    \"store_id\": np.random.randint(1, 10, NUM_RECORDS),\n",
    "    \"last_restock_date\": [\n",
    "        (datetime.today() - timedelta(days=np.random.randint(0, 90))).strftime(\"%Y-%m-%d\")\n",
    "        for _ in range(NUM_RECORDS)\n",
    "    ]\n",
    "}\n",
    "\n",
    "df_gen = pd.DataFrame(data)\n",
    "df_gen.to_csv(\"/Volumes/workspace/demo/retail_inventory/retail_inventory_faker.csv\", index=False)\n",
    "print(\"✅ Dataset saved to /dbfs/tmp/retail_inventory_faker.csv\")"
   ]
  },
  {
   "cell_type": "markdown",
   "metadata": {
    "application/vnd.databricks.v1+cell": {
     "cellMetadata": {},
     "inputWidgets": {},
     "nuid": "426936a9-469b-4bfb-9cf3-ca2ae91a1281",
     "showTitle": false,
     "tableResultSettingsMap": {},
     "title": ""
    },
    "id": "1eddb8ee"
   },
   "source": [
    "### 1. `filter()` – Low Stock Alert\n",
    "SmartMart's Inventory Control Division is responsible for maintaining healthy stock levels. They’ve implemented a daily alerting system that flags any product where the available quantity is below the predefined reorder threshold. These alerts are used to trigger automated replenishment, especially for fast-moving items to prevent out-of-stock scenarios."
   ]
  },
  {
   "cell_type": "code",
   "execution_count": 0,
   "metadata": {
    "application/vnd.databricks.v1+cell": {
     "cellMetadata": {
      "byteLimit": 2048000,
      "rowLimit": 10000
     },
     "inputWidgets": {},
     "nuid": "813102f0-f430-457a-a96b-4536a8919fa3",
     "showTitle": false,
     "tableResultSettingsMap": {},
     "title": ""
    }
   },
   "outputs": [],
   "source": [
    "df_gena = spark.read.csv(\"/Volumes/workspace/demo/retail_inventory/retail_inventory_faker.csv\", header=True, inferSchema=True)\n",
    "df_gena.show()"
   ]
  },
  {
   "cell_type": "code",
   "execution_count": 0,
   "metadata": {
    "application/vnd.databricks.v1+cell": {
     "cellMetadata": {
      "byteLimit": 2048000,
      "rowLimit": 10000
     },
     "inputWidgets": {},
     "nuid": "b29204a3-9451-448e-a93d-fd83137731a4",
     "showTitle": false,
     "tableResultSettingsMap": {},
     "title": ""
    },
    "id": "S7_amRycndj_"
   },
   "outputs": [],
   "source": [
    "from pyspark.sql import functions as F\n",
    "df_gena.where(F.col('quantity') < F.col('reorder_level')).display()"
   ]
  },
  {
   "cell_type": "markdown",
   "metadata": {
    "application/vnd.databricks.v1+cell": {
     "cellMetadata": {},
     "inputWidgets": {},
     "nuid": "5aaa56dd-e208-4b70-9e43-592793f80b69",
     "showTitle": false,
     "tableResultSettingsMap": {},
     "title": ""
    },
    "id": "e28c75a6"
   },
   "source": [
    "### 2. `withColumn()` – Inventory Valuation\n",
    "As part of its quarterly financial audit, SmartMart’s finance team calculates the total value of inventory held across all stores. This is critical for accurate working capital assessment and supports financial forecasting."
   ]
  },
  {
   "cell_type": "code",
   "execution_count": 0,
   "metadata": {
    "application/vnd.databricks.v1+cell": {
     "cellMetadata": {
      "byteLimit": 2048000,
      "rowLimit": 10000
     },
     "inputWidgets": {},
     "nuid": "d38fcaf4-5575-4310-b399-5e106230b4dd",
     "showTitle": false,
     "tableResultSettingsMap": {},
     "title": ""
    },
    "id": "OdLBAb-yneR1"
   },
   "outputs": [],
   "source": [
    "df_gena_withValue = df_gena.withColumn('held_value', F.col('quantity') * F.col('unit_price'))\n",
    "df_gena_withValue.display()\n",
    "df_gena_withValue.select('held_value').show()\n"
   ]
  },
  {
   "cell_type": "markdown",
   "metadata": {
    "application/vnd.databricks.v1+cell": {
     "cellMetadata": {},
     "inputWidgets": {},
     "nuid": "cc3efd15-89a7-4c23-9af6-38ce010255d4",
     "showTitle": false,
     "tableResultSettingsMap": {},
     "title": ""
    },
    "id": "31455264"
   },
   "source": [
    "### 3. `select()` – Product Reporting\n",
    "To maintain consistent product data across systems, the IT Ops team prepares filtered exports of product IDs, names, and prices for integration with POS systems."
   ]
  },
  {
   "cell_type": "code",
   "execution_count": 0,
   "metadata": {
    "application/vnd.databricks.v1+cell": {
     "cellMetadata": {
      "byteLimit": 2048000,
      "rowLimit": 10000
     },
     "inputWidgets": {},
     "nuid": "11ec2d50-a51f-4d63-86bd-c96e1776f00b",
     "showTitle": false,
     "tableResultSettingsMap": {},
     "title": ""
    },
    "id": "MEBGDDnxne2D"
   },
   "outputs": [],
   "source": [
    "df_gena_withValue.select('product_id','product_name','store_id','held_value').display()"
   ]
  },
  {
   "cell_type": "markdown",
   "metadata": {
    "application/vnd.databricks.v1+cell": {
     "cellMetadata": {},
     "inputWidgets": {},
     "nuid": "b2ea5366-03ee-476d-a956-11556a4b539a",
     "showTitle": false,
     "tableResultSettingsMap": {},
     "title": ""
    },
    "id": "00a2e2af"
   },
   "source": [
    "### 4. `groupBy() + agg()` – Average Price by Category\n",
    "The procurement department needs insights on average prices per category to evaluate supplier performance and adjust procurement strategies during contract renewals."
   ]
  },
  {
   "cell_type": "code",
   "execution_count": 0,
   "metadata": {
    "application/vnd.databricks.v1+cell": {
     "cellMetadata": {
      "byteLimit": 2048000,
      "rowLimit": 10000
     },
     "inputWidgets": {},
     "nuid": "cdf10204-a289-48af-95bf-03c0f3c99370",
     "showTitle": false,
     "tableResultSettingsMap": {},
     "title": ""
    },
    "id": "vNuMYfGFnf6i"
   },
   "outputs": [],
   "source": [
    "df_gena_withValue.groupBy('category').avg('held_value').display()"
   ]
  },
  {
   "cell_type": "markdown",
   "metadata": {
    "application/vnd.databricks.v1+cell": {
     "cellMetadata": {},
     "inputWidgets": {},
     "nuid": "1aaa4843-3081-4c25-86f2-70ac7f21ea30",
     "showTitle": false,
     "tableResultSettingsMap": {},
     "title": ""
    },
    "id": "453b2d78"
   },
   "source": [
    "### 5. `drop()` – Remove Redundant Column\n",
    "In preparation for archiving data to a cold storage lake, technical columns like `tags` are removed to streamline schema and save storage costs."
   ]
  },
  {
   "cell_type": "code",
   "execution_count": 0,
   "metadata": {
    "application/vnd.databricks.v1+cell": {
     "cellMetadata": {
      "byteLimit": 2048000,
      "rowLimit": 10000
     },
     "inputWidgets": {},
     "nuid": "9e05f830-416e-492b-85ce-f7d79e4b85f9",
     "showTitle": false,
     "tableResultSettingsMap": {},
     "title": ""
    },
    "id": "7lth7NBhngio"
   },
   "outputs": [],
   "source": [
    "df_gena_drop= df_gena_withValue.drop('tags')\n",
    "df_gena_drop.display()\n"
   ]
  },
  {
   "cell_type": "markdown",
   "metadata": {
    "application/vnd.databricks.v1+cell": {
     "cellMetadata": {},
     "inputWidgets": {},
     "nuid": "7cf25a8e-8d29-4102-8235-c17fb9709995",
     "showTitle": false,
     "tableResultSettingsMap": {},
     "title": ""
    },
    "id": "af70e665"
   },
   "source": [
    "### 6. `distinct()` – Unique Categories\n",
    "SmartMart's web team needs a clean, deduplicated list of product categories to update the e-commerce app's filter menus for improved customer experience.\n",
    "\n",
    "Business Need:\n",
    "SmartMart’s digital team updates the category filters in the mobile app weekly based on the product catalog.\n",
    "\n",
    "Requirement:\n",
    "Extract a deduplicated list of category values to refresh the frontend app filters used by customers during product search."
   ]
  },
  {
   "cell_type": "code",
   "execution_count": 0,
   "metadata": {
    "application/vnd.databricks.v1+cell": {
     "cellMetadata": {
      "byteLimit": 2048000,
      "rowLimit": 10000
     },
     "inputWidgets": {},
     "nuid": "1a838f82-72f0-4ea5-940b-a241f9164a2a",
     "showTitle": false,
     "tableResultSettingsMap": {},
     "title": ""
    },
    "id": "nYcF0U9RnhDq"
   },
   "outputs": [],
   "source": [
    "df_gena_drop.select(\"category\").distinct().display()"
   ]
  },
  {
   "cell_type": "markdown",
   "metadata": {
    "application/vnd.databricks.v1+cell": {
     "cellMetadata": {},
     "inputWidgets": {},
     "nuid": "26d0e628-a945-4969-bbfb-36bef4da7be0",
     "showTitle": false,
     "tableResultSettingsMap": {},
     "title": ""
    },
    "id": "6cb01e8a"
   },
   "source": [
    "### 7. `join()` – Geo-Enriched Inventory View\n",
    "To generate regional inventory reports, store IDs from the inventory dataset are enriched with location metadata (city names) for business user-friendly dashboards.\n",
    "\n",
    "Business Need:\n",
    "Executives request regional inventory insights (e.g., \"Top 5 stores in Mumbai with excess Electronics stock\").\n",
    "\n",
    "Requirement:\n",
    "Join the inventory dataset (via store_id) with a separate store_metadata table (with store_id, city) to add human-readable location data."
   ]
  },
  {
   "cell_type": "markdown",
   "metadata": {
    "application/vnd.databricks.v1+cell": {
     "cellMetadata": {},
     "inputWidgets": {},
     "nuid": "a4f8a51c-e869-4bfe-a0d4-07f91b9768fe",
     "showTitle": false,
     "tableResultSettingsMap": {},
     "title": ""
    }
   },
   "source": [
    "## Creating the metadata_store table"
   ]
  },
  {
   "cell_type": "code",
   "execution_count": 0,
   "metadata": {
    "application/vnd.databricks.v1+cell": {
     "cellMetadata": {
      "byteLimit": 2048000,
      "rowLimit": 10000
     },
     "inputWidgets": {},
     "nuid": "8d39f148-f973-461a-81f1-381f9c2ded38",
     "showTitle": false,
     "tableResultSettingsMap": {},
     "title": ""
    },
    "id": "Xl_Nbih3nhvt"
   },
   "outputs": [],
   "source": [
    "data = [\n",
    "    (1, \"Mumbai\"),\n",
    "    (2, \"Delhi\"),\n",
    "    (3, \"Bengaluru\"),\n",
    "    (4, \"Hyderabad\"),\n",
    "    (5, \"Chennai\"),\n",
    "    (6, \"Kolkata\"),\n",
    "    (7, \"Pune\"),\n",
    "    (8, \"Ahmedabad\"),\n",
    "    (9, \"Jaipur\")\n",
    "]\n",
    "\n",
    "# Define the schema\n",
    "columns = [\"store_id\", \"loc_name\"]\n",
    "\n",
    "# Create the DataFrame\n",
    "store_metadata_df = spark.createDataFrame(data, schema=columns)\n",
    "\n",
    "# Show the DataFrame\n",
    "store_metadata_df.show()"
   ]
  },
  {
   "cell_type": "code",
   "execution_count": 0,
   "metadata": {
    "application/vnd.databricks.v1+cell": {
     "cellMetadata": {
      "byteLimit": 2048000,
      "rowLimit": 10000
     },
     "inputWidgets": {},
     "nuid": "da6b7e14-7370-4eaf-9a84-441d4d773b20",
     "showTitle": false,
     "tableResultSettingsMap": {},
     "title": ""
    }
   },
   "outputs": [],
   "source": [
    "df_gena_drop.join(store_metadata_df, on='store_id').display()"
   ]
  },
  {
   "cell_type": "markdown",
   "metadata": {
    "application/vnd.databricks.v1+cell": {
     "cellMetadata": {},
     "inputWidgets": {},
     "nuid": "7c5eaeb2-c49b-4a99-b868-a2c9699d4a1a",
     "showTitle": false,
     "tableResultSettingsMap": {},
     "title": ""
    },
    "id": "316c623a"
   },
   "source": [
    "### 8. `orderBy()` – High-Value Inventory Review\n",
    "The CFO identifies products that hold the highest inventory value. These products often tie up the most capital and are candidates for tighter inventory control.\n",
    "\n",
    "Business Need:\n",
    "The finance and operations teams need to identify high-value stock items tying up capital and prioritize their movement.\n",
    "\n",
    "Requirement:\n",
    "Sort products by descending inventory_value (calculated as quantity * unit_price) to review the top 10 highest holding SKUs."
   ]
  },
  {
   "cell_type": "code",
   "execution_count": 0,
   "metadata": {
    "application/vnd.databricks.v1+cell": {
     "cellMetadata": {},
     "inputWidgets": {},
     "nuid": "c5eeea04-f872-4ac8-9224-611f143481da",
     "showTitle": false,
     "tableResultSettingsMap": {},
     "title": ""
    },
    "id": "1RKBtrjwnikD"
   },
   "outputs": [],
   "source": []
  },
  {
   "cell_type": "markdown",
   "metadata": {
    "application/vnd.databricks.v1+cell": {
     "cellMetadata": {},
     "inputWidgets": {},
     "nuid": "54a9e352-f791-412f-9e65-5c0deee97a37",
     "showTitle": false,
     "tableResultSettingsMap": {},
     "title": ""
    },
    "id": "fcec0c0f"
   },
   "source": [
    "### 9. `union()` – Combine Warehouse Snapshots\n",
    "SmartMart's warehouses operate independently. Their datasets are unified into one view so analysts can generate national-level inventory reports.\n",
    "\n",
    "\n",
    "Business Need:\n",
    "Warehouse operations across regions report inventory separately. Management wants a consolidated view for national forecasting.\n",
    "\n",
    "Requirement:\n",
    "Use union() to combine multiple DataFrames from different warehouse snapshots into a unified DataFrame for aggregated analysis."
   ]
  },
  {
   "cell_type": "code",
   "execution_count": 0,
   "metadata": {
    "application/vnd.databricks.v1+cell": {
     "cellMetadata": {},
     "inputWidgets": {},
     "nuid": "16403acf-0976-4f88-9b9a-d980d63755a9",
     "showTitle": false,
     "tableResultSettingsMap": {},
     "title": ""
    },
    "id": "uEXkbsRknjEW"
   },
   "outputs": [],
   "source": []
  },
  {
   "cell_type": "markdown",
   "metadata": {
    "application/vnd.databricks.v1+cell": {
     "cellMetadata": {},
     "inputWidgets": {},
     "nuid": "19c6ea14-fd85-4a23-9761-a71ba10b52c4",
     "showTitle": false,
     "tableResultSettingsMap": {},
     "title": ""
    },
    "id": "a1b89208"
   },
   "source": [
    "### 10. `explode()` – Tag Analysis for Marketing\n",
    "Marketing uses product tags for campaign targeting. To evaluate tag performance individually, the nested tag array is exploded so that each tag can be analyzed separately.\n",
    "\n",
    "\n",
    "Business Need:\n",
    "Marketing teams run promotions based on product tags (e.g., \"eco\", \"sale\"). They need individual tag-level performance analytics.\n",
    "\n",
    "Requirement:\n",
    "Explode the tags array so that each tag becomes a separate row, enabling tag-specific reporting (e.g., products with \"eco\" tag sold 5% more)."
   ]
  },
  {
   "cell_type": "code",
   "execution_count": 0,
   "metadata": {
    "application/vnd.databricks.v1+cell": {
     "cellMetadata": {},
     "inputWidgets": {},
     "nuid": "bdb48374-01c5-45fd-80c7-d37e2fa57e33",
     "showTitle": false,
     "tableResultSettingsMap": {},
     "title": ""
    },
    "id": "0PbfGREqnjfI"
   },
   "outputs": [],
   "source": []
  },
  {
   "cell_type": "markdown",
   "metadata": {
    "application/vnd.databricks.v1+cell": {
     "cellMetadata": {},
     "inputWidgets": {},
     "nuid": "75aa6838-c144-44da-8737-28916ef7769a",
     "showTitle": false,
     "tableResultSettingsMap": {},
     "title": ""
    },
    "id": "21239e47"
   },
   "source": [
    "### 11. `fillna()` – Handle Missing Prices\n",
    "After legacy data migrations, some prices were missing. Instead of dropping rows, default values are set to ensure completeness for downstream calculations.\n",
    "\n",
    "\n",
    "Business Need:\n",
    "Legacy product data imported during mergers had missing price values, blocking certain analytics.\n",
    "\n",
    "Requirement:\n",
    "Replace missing values in the unit_price column with a default value (e.g., 0 or category average) to maintain data completeness.\n"
   ]
  },
  {
   "cell_type": "code",
   "execution_count": 0,
   "metadata": {
    "application/vnd.databricks.v1+cell": {
     "cellMetadata": {},
     "inputWidgets": {},
     "nuid": "e1b1773a-a86c-4444-a9b2-76e3ae405412",
     "showTitle": false,
     "tableResultSettingsMap": {},
     "title": ""
    },
    "id": "bNbaAQQ8nkFd"
   },
   "outputs": [],
   "source": []
  },
  {
   "cell_type": "markdown",
   "metadata": {
    "application/vnd.databricks.v1+cell": {
     "cellMetadata": {},
     "inputWidgets": {},
     "nuid": "312c3463-fb5e-47af-b8ef-35d76490e28c",
     "showTitle": false,
     "tableResultSettingsMap": {},
     "title": ""
    },
    "id": "1a736656"
   },
   "source": [
    "### 12. `dropDuplicates()` – Remove Duplicate Products\n",
    "Merging multiple regional systems caused duplicate product records. Deduplication ensures reporting accuracy and consistent SKU counts.\n",
    "\n",
    "Business Need:\n",
    "After integrating multiple systems, some products were duplicated, which caused double counting in reports.\n",
    "\n",
    "Requirement:\n",
    "Remove duplicate records based on a combination of product_id and store_id to maintain a clean, consistent master product dataset."
   ]
  },
  {
   "cell_type": "code",
   "execution_count": 0,
   "metadata": {
    "application/vnd.databricks.v1+cell": {
     "cellMetadata": {},
     "inputWidgets": {},
     "nuid": "896d7e47-dd3c-40fe-9814-381efa0aa36e",
     "showTitle": false,
     "tableResultSettingsMap": {},
     "title": ""
    },
    "id": "JnpKoFCdnkcW"
   },
   "outputs": [],
   "source": []
  }
 ],
 "metadata": {
  "application/vnd.databricks.v1+notebook": {
   "computePreferences": null,
   "dashboards": [],
   "environmentMetadata": null,
   "inputWidgetPreferences": null,
   "language": "python",
   "notebookMetadata": {
    "pythonIndentUnit": 4
   },
   "notebookName": "SmartMart_Business_Context_Only",
   "widgets": {}
  },
  "colab": {
   "provenance": []
  },
  "language_info": {
   "name": "python"
  }
 },
 "nbformat": 4,
 "nbformat_minor": 0
}
